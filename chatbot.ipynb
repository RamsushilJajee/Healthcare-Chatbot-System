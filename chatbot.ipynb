{
 "cells": [
  {
   "cell_type": "code",
   "execution_count": 1,
   "metadata": {},
   "outputs": [],
   "source": [
    "import nltk\n",
    "import warnings\n",
    "warnings.filterwarnings(\"ignore\")\n",
    "import numpy as np\n",
    "import random\n",
    "import string"
   ]
  },
  {
   "cell_type": "code",
   "execution_count": 2,
   "metadata": {},
   "outputs": [],
   "source": [
    "f = open('symptom.txt','r', errors = 'ignore')"
   ]
  },
  {
   "cell_type": "code",
   "execution_count": 3,
   "metadata": {},
   "outputs": [],
   "source": [
    "raw = f.read()\n",
    "raw = raw.lower()  # converts to lowercase"
   ]
  },
  {
   "cell_type": "code",
   "execution_count": 4,
   "metadata": {},
   "outputs": [],
   "source": [
    "sent_tokens = nltk.sent_tokenize(raw)# converts to list of sentences \n",
    "word_tokens = nltk.word_tokenize(raw)# converts to list of words"
   ]
  },
  {
   "cell_type": "code",
   "execution_count": 5,
   "metadata": {},
   "outputs": [
    {
     "data": {
      "text/plain": [
       "[\"\\nstopped growth :-->  \\npred_diseases:'growth disorder, turner syndrome',\\nanalgesics: 'thyroid hormone pills, growth hormone injections', \\ntreatment scans:'bone age xray, mri scan', \\n 'meat, seafood,leafygreens,diary,spinach, beef'.\",\n",
       " 'wheezing, coughing and troubled breathing,chest pain -->pred_diseases: asthma;\\nanalgesics: metered dose inhalers, nebulizers;\\ntreatment scans:asthma therapy; \\n diet:fruits and vegetables.']"
      ]
     },
     "execution_count": 5,
     "metadata": {},
     "output_type": "execute_result"
    }
   ],
   "source": [
    "sent_tokens[:2]"
   ]
  },
  {
   "cell_type": "code",
   "execution_count": 6,
   "metadata": {},
   "outputs": [
    {
     "data": {
      "text/plain": [
       "['stopped', 'growth', ':', '--', '>']"
      ]
     },
     "execution_count": 6,
     "metadata": {},
     "output_type": "execute_result"
    }
   ],
   "source": [
    "word_tokens[:5]"
   ]
  },
  {
   "cell_type": "code",
   "execution_count": 7,
   "metadata": {},
   "outputs": [],
   "source": [
    "lemmer = nltk.stem.WordNetLemmatizer()\n",
    "def LemTokens(tokens):\n",
    "    return [lemmer.lemmatize(token) for token in tokens]\n",
    "remove_punct_dict = dict((ord(punct), None) for punct in string.punctuation)\n",
    "def LemNormalize(text):\n",
    "    return LemTokens(nltk.word_tokenize(text.lower().translate(remove_punct_dict)))"
   ]
  },
  {
   "cell_type": "code",
   "execution_count": 8,
   "metadata": {},
   "outputs": [],
   "source": [
    "GREETING_INPUTS = (\"hello\", \"hi\",\"hiii\",\"hii\",\"hiiii\",\"hiiii\", \"greetings\", \"sup\", \"what's up\",\"hey\",)\n",
    "GREETING_RESPONSES = [\"Hi, are you suffering from any health issues?(Y/N)\", \"Hey, are you having any health issues?(Y/N)\", \"Hii there, are you having any health issues?(Y/N)\", \"Hi there, are you having any health issues?(Y/N)\", \"Hello, are you having any health issues?(Y/N)\", \"I am glad! You are talking to me, are you having any health issues?(Y/N)\"]\n",
    "Basic_Q = (\"yes\",\"y\")\n",
    "Basic_Ans = \"okay,tell me about your symptoms\"\n",
    "Basic_Om = (\"no\",\"n\")\n",
    "Basic_AnsM = \"thank you visit again\""
   ]
  },
  {
   "cell_type": "code",
   "execution_count": 9,
   "metadata": {},
   "outputs": [],
   "source": [
    "# Checking for greetings\n",
    "def greeting(sentence):\n",
    "    \"\"\"If user's input is a greeting, return a greeting response\"\"\"\n",
    "    for word in sentence.split():\n",
    "        if word.lower() in GREETING_INPUTS:\n",
    "            return random.choice(GREETING_RESPONSES)"
   ]
  },
  {
   "cell_type": "code",
   "execution_count": 10,
   "metadata": {},
   "outputs": [],
   "source": [
    "# Checking for Basic_Q\n",
    "def basic(sentence):\n",
    "    for word in Basic_Q:\n",
    "        if sentence.lower() == word:\n",
    "            return Basic_Ans"
   ]
  },
  {
   "cell_type": "code",
   "execution_count": 11,
   "metadata": {},
   "outputs": [],
   "source": [
    "# Checking for Basic_QM\n",
    "def basicM(sentence):\n",
    "    \"\"\"If user's input is a greeting, return a greeting response\"\"\"\n",
    "    for word in Basic_Om:\n",
    "        if sentence.lower() == word:\n",
    "            return Basic_AnsM"
   ]
  },
  {
   "cell_type": "code",
   "execution_count": 12,
   "metadata": {},
   "outputs": [],
   "source": [
    "from sklearn.feature_extraction.text import TfidfVectorizer\n",
    "from sklearn.metrics.pairwise import cosine_similarity"
   ]
  },
  {
   "cell_type": "code",
   "execution_count": 22,
   "metadata": {},
   "outputs": [],
   "source": [
    "# Generating response\n",
    "def response(user_response):\n",
    "    robo_response=''\n",
    "    sent_tokens.append(user_response)\n",
    "    TfidfVec = TfidfVectorizer(tokenizer=LemNormalize, stop_words='english')\n",
    "    tfidf = TfidfVec.fit_transform(sent_tokens)\n",
    "   \n",
    "    vals = cosine_similarity(tfidf[-1], tfidf)\n",
    "   \n",
    "    idx=vals.argsort()[0][-2]\n",
    "    flat = vals.flatten()\n",
    "    flat.sort()\n",
    "    req_tfidf = flat[-2]\n",
    "    print('tfidf:', tfidf)\n",
    "    print('cosine similarity:', vals)\n",
    "    if(req_tfidf==0):\n",
    "        robo_response=robo_response+\"I am sorry! I don't understand you\"\n",
    "        return robo_response\n",
    "    else:\n",
    "        robo_response = robo_response+sent_tokens[idx] \n",
    "        return robo_response"
   ]
  },
  {
   "cell_type": "code",
   "execution_count": 23,
   "metadata": {},
   "outputs": [],
   "source": [
    "def chat(user_response):\n",
    "    user_response = user_response.lower()\n",
    "    \n",
    "    if(user_response != 'bye'):\n",
    "        \n",
    "        if(user_response == 'thanks' or user_response=='thank you'):\n",
    "            flag=False\n",
    "            #print(\"ROBO: You are welcome..\")\n",
    "            return \"You are welcome..\"\n",
    "        \n",
    "        elif(basicM(user_response) != None):\n",
    "            return basicM(user_response)\n",
    "        \n",
    "        else:\n",
    "            if(greeting(user_response) != None):\n",
    "                #print(\"ROBO: \"+greeting(user_response))\n",
    "                return greeting(user_response)\n",
    "            \n",
    "            elif(basic(user_response) != None):\n",
    "                return basic(user_response)\n",
    "            \n",
    "            else:\n",
    "                #print(\"ROBO: \",end=\"\")\n",
    "                #print(response(user_response))\n",
    "                return response(user_response)\n",
    "                sent_tokens.remove(user_response)\n",
    "                \n",
    "    else:\n",
    "        flag=False\n",
    "        #print(\"ROBO: Bye! take care..\")\n",
    "        return \"Bye! take care..\""
   ]
  },
  {
   "cell_type": "code",
   "execution_count": 24,
   "metadata": {},
   "outputs": [
    {
     "name": "stdout",
     "output_type": "stream",
     "text": [
      "tfidf:   (0, 36)\t0.20952325912083064\n",
      "  (0, 271)\t0.20952325912083064\n",
      "  (0, 185)\t0.14992386635787797\n",
      "  (0, 250)\t0.11232083616893974\n",
      "  (0, 194)\t0.20952325912083064\n",
      "  (0, 346)\t0.20952325912083064\n",
      "  (0, 7)\t0.20952325912083064\n",
      "  (0, 252)\t0.20952325912083064\n",
      "  (0, 320)\t0.06261233410928467\n",
      "  (0, 160)\t0.20952325912083064\n",
      "  (0, 215)\t0.20952325912083064\n",
      "  (0, 152)\t0.4190465182416613\n",
      "  (0, 314)\t0.20952325912083064\n",
      "  (0, 13)\t0.06261233410928467\n",
      "  (0, 305)\t0.20952325912083064\n",
      "  (0, 326)\t0.20952325912083064\n",
      "  (0, 108)\t0.1875268965468162\n",
      "  (0, 228)\t0.20952325912083064\n",
      "  (0, 142)\t0.4190465182416613\n",
      "  (0, 295)\t0.20952325912083064\n",
      "  (1, 333)\t0.17238314039050498\n",
      "  (1, 100)\t0.23166362262492918\n",
      "  (1, 312)\t0.23166362262492918\n",
      "  (1, 251)\t0.2823339494931829\n",
      "  (1, 198)\t0.2823339494931829\n",
      "  :\t:\n",
      "  (29, 288)\t0.2755258686648574\n",
      "  (29, 231)\t0.2755258686648574\n",
      "  (29, 105)\t0.2755258686648574\n",
      "  (29, 52)\t0.24660035972087235\n",
      "  (29, 75)\t0.24660035972087235\n",
      "  (29, 107)\t0.18615490745198954\n",
      "  (29, 51)\t0.24660035972087235\n",
      "  (29, 275)\t0.24660035972087235\n",
      "  (29, 206)\t0.1971518755730424\n",
      "  (30, 232)\t0.5\n",
      "  (30, 197)\t0.5\n",
      "  (30, 80)\t0.5\n",
      "  (30, 85)\t0.5\n",
      "  (31, 232)\t0.5\n",
      "  (31, 197)\t0.5\n",
      "  (31, 80)\t0.5\n",
      "  (31, 85)\t0.5\n",
      "  (32, 232)\t0.5\n",
      "  (32, 197)\t0.5\n",
      "  (32, 80)\t0.5\n",
      "  (32, 85)\t0.5\n",
      "  (33, 232)\t0.5\n",
      "  (33, 197)\t0.5\n",
      "  (33, 80)\t0.5\n",
      "  (33, 85)\t0.5\n",
      "cosine similarity: [[0.         0.         0.         0.         0.         0.\n",
      "  0.         0.         0.         0.         0.         0.\n",
      "  0.         0.         0.         0.         0.09314531 0.\n",
      "  0.         0.         0.         0.         0.         0.\n",
      "  0.         0.41616129 0.         0.         0.         0.\n",
      "  1.         1.         1.         1.        ]]\n"
     ]
    },
    {
     "data": {
      "text/plain": [
       "'i have some nasal problem, cough and cold'"
      ]
     },
     "execution_count": 24,
     "metadata": {},
     "output_type": "execute_result"
    }
   ],
   "source": [
    "chat(\"I have some nasal problem, cough and cold\")"
   ]
  },
  {
   "cell_type": "code",
   "execution_count": null,
   "metadata": {},
   "outputs": [],
   "source": []
  },
  {
   "cell_type": "code",
   "execution_count": null,
   "metadata": {},
   "outputs": [],
   "source": []
  }
 ],
 "metadata": {
  "kernelspec": {
   "display_name": "Python 3",
   "language": "python",
   "name": "python3"
  },
  "language_info": {
   "codemirror_mode": {
    "name": "ipython",
    "version": 3
   },
   "file_extension": ".py",
   "mimetype": "text/x-python",
   "name": "python",
   "nbconvert_exporter": "python",
   "pygments_lexer": "ipython3",
   "version": "3.7.4"
  }
 },
 "nbformat": 4,
 "nbformat_minor": 2
}
